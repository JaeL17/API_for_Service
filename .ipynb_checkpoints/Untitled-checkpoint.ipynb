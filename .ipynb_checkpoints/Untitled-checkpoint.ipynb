{
 "cells": [
  {
   "cell_type": "code",
   "execution_count": 2,
   "id": "63654d25",
   "metadata": {},
   "outputs": [
    {
     "ename": "SyntaxError",
     "evalue": "invalid syntax (522445401.py, line 1)",
     "output_type": "error",
     "traceback": [
      "\u001b[0;36m  File \u001b[0;32m\"/tmp/ipykernel_388/522445401.py\"\u001b[0;36m, line \u001b[0;32m1\u001b[0m\n\u001b[0;31m    import .code.get_input as input_cr\u001b[0m\n\u001b[0m           ^\u001b[0m\n\u001b[0;31mSyntaxError\u001b[0m\u001b[0;31m:\u001b[0m invalid syntax\n"
     ]
    }
   ],
   "source": [
    "import .code.get_input as input_cr"
   ]
  },
  {
   "cell_type": "code",
   "execution_count": 1,
   "id": "e0c7d4b3",
   "metadata": {},
   "outputs": [],
   "source": [
    "import sys\n",
    "sys.path.insert(1, '/service/code')"
   ]
  },
  {
   "cell_type": "code",
   "execution_count": 2,
   "id": "1376bd87",
   "metadata": {},
   "outputs": [],
   "source": [
    "from get_input import load_input"
   ]
  },
  {
   "cell_type": "code",
   "execution_count": 3,
   "id": "61d5b1ed",
   "metadata": {},
   "outputs": [],
   "source": [
    "input_loader = load_input()"
   ]
  },
  {
   "cell_type": "code",
   "execution_count": 4,
   "id": "6338413a",
   "metadata": {},
   "outputs": [],
   "source": [
    "appn, docs, ntn_cd = input_loader.file_input('KR_tac_test.csv')"
   ]
  },
  {
   "cell_type": "code",
   "execution_count": 7,
   "id": "ecbc2530",
   "metadata": {},
   "outputs": [
    {
     "data": {
      "text/plain": [
       "['/service/docker_img',\n",
       " '/docker_img/code',\n",
       " '/opt/conda/lib/python37.zip',\n",
       " '/opt/conda/lib/python3.7',\n",
       " '/opt/conda/lib/python3.7/lib-dynload',\n",
       " '',\n",
       " '/opt/conda/lib/python3.7/site-packages',\n",
       " '/opt/conda/lib/python3.7/site-packages/IPython/extensions',\n",
       " '/root/.ipython']"
      ]
     },
     "execution_count": 7,
     "metadata": {},
     "output_type": "execute_result"
    }
   ],
   "source": [
    "sys.path\n"
   ]
  },
  {
   "cell_type": "code",
   "execution_count": 12,
   "id": "caebb73f",
   "metadata": {},
   "outputs": [],
   "source": [
    "\n",
    "import get_input"
   ]
  },
  {
   "cell_type": "code",
   "execution_count": 14,
   "id": "41b6bb40",
   "metadata": {},
   "outputs": [],
   "source": [
    "loader = load_input()"
   ]
  },
  {
   "cell_type": "code",
   "execution_count": 16,
   "id": "6bda2246",
   "metadata": {},
   "outputs": [],
   "source": [
    "app, docs, ntn_cd = loader.file_input('KR_tac_test.csv')"
   ]
  },
  {
   "cell_type": "code",
   "execution_count": 17,
   "id": "98e08ee3",
   "metadata": {},
   "outputs": [
    {
     "data": {
      "text/plain": [
       "300"
      ]
     },
     "execution_count": 17,
     "metadata": {},
     "output_type": "execute_result"
    }
   ],
   "source": [
    "len(app)"
   ]
  }
 ],
 "metadata": {
  "kernelspec": {
   "display_name": "Python 3 (ipykernel)",
   "language": "python",
   "name": "python3"
  },
  "language_info": {
   "codemirror_mode": {
    "name": "ipython",
    "version": 3
   },
   "file_extension": ".py",
   "mimetype": "text/x-python",
   "name": "python",
   "nbconvert_exporter": "python",
   "pygments_lexer": "ipython3",
   "version": "3.7.10"
  }
 },
 "nbformat": 4,
 "nbformat_minor": 5
}
