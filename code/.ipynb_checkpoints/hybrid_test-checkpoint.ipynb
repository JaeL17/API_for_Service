{
 "cells": [
  {
   "cell_type": "code",
   "execution_count": 1,
   "id": "9a3584d0",
   "metadata": {},
   "outputs": [],
   "source": [
    "from infer_models import ClassificationHelper, GenerationHelper\n"
   ]
  },
  {
   "cell_type": "code",
   "execution_count": 2,
   "id": "6fcf14fb",
   "metadata": {},
   "outputs": [],
   "source": [
    "testf = open('/workspace/mega_trend_data/data_ff/test.tsv')\n",
    "lines = testf.readlines()\n",
    "lines_split = [i.split('\\t') for i in lines]\n",
    "gold_lab = [i[-1].replace('\\n', '') for i in lines_split[1:]]\n",
    "texts = [i[1] for i in lines_split[1:]]"
   ]
  },
  {
   "cell_type": "code",
   "execution_count": 3,
   "id": "e5963b48",
   "metadata": {},
   "outputs": [],
   "source": [
    "import argparse"
   ]
  },
  {
   "cell_type": "code",
   "execution_count": 4,
   "id": "df931fc7",
   "metadata": {},
   "outputs": [],
   "source": [
    "parser = argparse.ArgumentParser()\n",
    "\n",
    "parser.add_argument(\"--top_n\", type=int, default=3)\n",
    "parser.add_argument(\"--decode_seq_len\", type=int, default=5)\n",
    "\n",
    "# parser.add_argument(\"--task\", type=str, default=\"\")\n",
    "parser.add_argument(\"--gen_model_type\", type=str, default=\"bert_generation\")\n",
    "parser.add_argument(\"--gen_model_name_or_path\", type=str, default=\"/workspace/API_inference/models/gen_model\")\n",
    "parser.add_argument(\"--cls_model_type\", type=str, default=\"saltluxbert\")\n",
    "parser.add_argument(\"--cls_model_name_or_path\", type=str, default=\"/workspace/2022_text_classify/model_results/v_ff/patent_bert_large_cls_old/checkpoint-107512\")\n",
    "\n",
    "parser.add_argument(\"--max_seq_len\", type=int, default=512)\n",
    "parser.add_argument(\"--eval_batch_size\", type=int, default=16)\n",
    "\n",
    "parser.add_argument(\"--do_lower_case\", action='store_true', help=\"\")\n",
    "parser.add_argument(\"--no_cuda\", action='store_true', help=\"\")\n",
    "  \n",
    "\n",
    "args = parser.parse_args(args=[])"
   ]
  },
  {
   "cell_type": "code",
   "execution_count": 5,
   "id": "d55c6735",
   "metadata": {},
   "outputs": [],
   "source": [
    "#cls_model = ClassificationHelper(args)   \n",
    "gen_model = GenerationHelper(args)"
   ]
  },
  {
   "cell_type": "code",
   "execution_count": 6,
   "id": "84426af5",
   "metadata": {},
   "outputs": [],
   "source": [
    "# cls_result = cls_model.classifyList(texts, args.top_n)"
   ]
  },
  {
   "cell_type": "code",
   "execution_count": 7,
   "id": "2ddd5b6f",
   "metadata": {},
   "outputs": [],
   "source": [
    "import time"
   ]
  },
  {
   "cell_type": "code",
   "execution_count": 10,
   "id": "7bf9e6e0",
   "metadata": {},
   "outputs": [
    {
     "data": {
      "text/plain": [
       "0.7638888888888888"
      ]
     },
     "execution_count": 10,
     "metadata": {},
     "output_type": "execute_result"
    }
   ],
   "source": [
    "100000/200*5.5/3600"
   ]
  },
  {
   "cell_type": "code",
   "execution_count": 9,
   "id": "e22962ff",
   "metadata": {},
   "outputs": [
    {
     "data": {
      "text/plain": [
       "65.69444444444444"
      ]
     },
     "execution_count": 9,
     "metadata": {},
     "output_type": "execute_result"
    }
   ],
   "source": [
    "8600000/200*5.5/3600"
   ]
  },
  {
   "cell_type": "code",
   "execution_count": 11,
   "id": "250e11a5",
   "metadata": {},
   "outputs": [
    {
     "data": {
      "text/plain": [
       "{'1_3_pred': '0',\n",
       " '1_3_prob': '0.0024186454',\n",
       " '1_2_pred': '2',\n",
       " '1_2_prob': '0.20620595',\n",
       " '1_1_pred': '1',\n",
       " '1_1_prob': '0.79121786',\n",
       " '2_3_pred': '17',\n",
       " '2_3_prob': '2.1513122e-06',\n",
       " '2_2_pred': '11',\n",
       " '2_2_prob': '1.0712929e-05',\n",
       " '2_1_pred': '10',\n",
       " '2_1_prob': '0.99998677',\n",
       " '3_3_pred': '180',\n",
       " '3_3_prob': '5.510496e-06',\n",
       " '3_2_pred': '183',\n",
       " '3_2_prob': '3.1142223e-05',\n",
       " '3_1_pred': '187',\n",
       " '3_1_prob': '0.99994886',\n",
       " '4_3_pred': '1815',\n",
       " '4_3_prob': '2.2073982e-05',\n",
       " '4_2_pred': '1817',\n",
       " '4_2_prob': '0.00015280806',\n",
       " '4_1_pred': '1819',\n",
       " '4_1_prob': '0.99981064',\n",
       " '5_3_pred': '18162',\n",
       " '5_3_prob': '0.0012233523',\n",
       " '5_2_pred': '18165',\n",
       " '5_2_prob': '0.0029333464',\n",
       " '5_1_pred': '18167',\n",
       " '5_1_prob': '0.99507517'}"
      ]
     },
     "execution_count": 11,
     "metadata": {},
     "output_type": "execute_result"
    }
   ],
   "source": [
    "gen_result[0]"
   ]
  },
  {
   "cell_type": "code",
   "execution_count": 9,
   "id": "c3a69813",
   "metadata": {},
   "outputs": [
    {
     "name": "stdout",
     "output_type": "stream",
     "text": [
      "5.6040263175964355\n"
     ]
    }
   ],
   "source": [
    "t1 = time.time()\n",
    "gen_result = gen_model.classifyList_decoding(texts, args.top_n)\n",
    "print(time.time() -t1)"
   ]
  },
  {
   "cell_type": "code",
   "execution_count": 16,
   "id": "4c081328",
   "metadata": {},
   "outputs": [
    {
     "name": "stdout",
     "output_type": "stream",
     "text": [
      "5.419637680053711\n"
     ]
    }
   ],
   "source": [
    "t1 = time.time()\n",
    "gen_result = gen_model.classifyList_decoding(texts, args.top_n)\n",
    "print(time.time() -t1)"
   ]
  },
  {
   "cell_type": "code",
   "execution_count": 10,
   "id": "498dff65",
   "metadata": {},
   "outputs": [
    {
     "name": "stdout",
     "output_type": "stream",
     "text": [
      "5.87712025642395\n"
     ]
    }
   ],
   "source": [
    "t1 = time.time()\n",
    "gen_result = gen_model.classifyList_decoding(texts, args.top_n)\n",
    "print(time.time() -t1)"
   ]
  },
  {
   "cell_type": "code",
   "execution_count": 10,
   "id": "13dbc43e",
   "metadata": {},
   "outputs": [
    {
     "data": {
      "text/plain": [
       "{'3_pred': '42491',\n",
       " '3_prob': '0.0027286895',\n",
       " '2_pred': '42202',\n",
       " '2_prob': '0.0031309738',\n",
       " '1_pred': '42499',\n",
       " '1_prob': '0.9765296'}"
      ]
     },
     "execution_count": 10,
     "metadata": {},
     "output_type": "execute_result"
    }
   ],
   "source": [
    "cls_result[0]"
   ]
  },
  {
   "cell_type": "code",
   "execution_count": 13,
   "id": "c01efe1a",
   "metadata": {},
   "outputs": [],
   "source": [
    "def generation_result(data):\n",
    "    gen_result = []\n",
    "    for i in data:\n",
    "        mid_res = {}\n",
    "        for topn_idx in range(1,4):\n",
    "            pred = ''\n",
    "            score = 1\n",
    "            for digit_idx in range(1,6):\n",
    "                pred += i[f\"{digit_idx}_{topn_idx}_pred\"][-1]\n",
    "                score = score * float(i[f\"{digit_idx}_{topn_idx}_prob\"])\n",
    "            mid_res[f'{topn_idx}_pred']=pred\n",
    "            mid_res[f'{topn_idx}_prob']=score\n",
    "        gen_result.append(mid_res)\n",
    "    return gen_result\n"
   ]
  },
  {
   "cell_type": "code",
   "execution_count": 14,
   "id": "eb664483",
   "metadata": {},
   "outputs": [],
   "source": [
    "asv = generation_result(gen_result)"
   ]
  },
  {
   "cell_type": "code",
   "execution_count": 17,
   "id": "360db172",
   "metadata": {},
   "outputs": [
    {
     "data": {
      "text/plain": [
       "{'1_pred': '42209',\n",
       " '1_prob': 0.9969889066757986,\n",
       " '2_pred': '31150',\n",
       " '2_prob': 4.343883328471472e-21,\n",
       " '3_pred': '23411',\n",
       " '3_prob': 2.990318118955318e-26}"
      ]
     },
     "execution_count": 17,
     "metadata": {},
     "output_type": "execute_result"
    }
   ],
   "source": [
    "asv[61]"
   ]
  },
  {
   "cell_type": "code",
   "execution_count": 16,
   "id": "1916e399",
   "metadata": {},
   "outputs": [
    {
     "data": {
      "text/plain": [
       "{'1_pred': '42209',\n",
       " '1_prob': 0.9969889066757986,\n",
       " '2_pred': '31150',\n",
       " '2_prob': 4.343883328471472e-21,\n",
       " '3_pred': '23411',\n",
       " '3_prob': 2.990318118955318e-26}"
      ]
     },
     "execution_count": 16,
     "metadata": {},
     "output_type": "execute_result"
    }
   ],
   "source": [
    "gen_result2[61]"
   ]
  },
  {
   "cell_type": "code",
   "execution_count": null,
   "id": "79da160c",
   "metadata": {},
   "outputs": [],
   "source": []
  },
  {
   "cell_type": "code",
   "execution_count": 11,
   "id": "09a970f5",
   "metadata": {},
   "outputs": [],
   "source": [
    "gen_result2 = []\n",
    "for i in gen_result:\n",
    "    mid_res = {}\n",
    "    for topn_idx in range(1,4):\n",
    "        pred = ''\n",
    "        score = 1\n",
    "        for digit_idx in range(1,6):\n",
    "            pred += i[f\"{digit_idx}_{topn_idx}_pred\"][-1]\n",
    "            score = score * float(i[f\"{digit_idx}_{topn_idx}_prob\"])\n",
    "        mid_res[f'{topn_idx}_pred']=pred\n",
    "        mid_res[f'{topn_idx}_prob']=score\n",
    "    gen_result2.append(mid_res)"
   ]
  },
  {
   "cell_type": "code",
   "execution_count": 12,
   "id": "ba1179c9",
   "metadata": {},
   "outputs": [
    {
     "data": {
      "text/plain": [
       "{'1_pred': '42499',\n",
       " '1_prob': 0.9995706686925746,\n",
       " '2_pred': '21210',\n",
       " '2_prob': 2.0728644157295178e-24,\n",
       " '3_pred': '34508',\n",
       " '3_prob': 1.0489239781432684e-27}"
      ]
     },
     "execution_count": 12,
     "metadata": {},
     "output_type": "execute_result"
    }
   ],
   "source": [
    "gen_result2[0]"
   ]
  },
  {
   "cell_type": "code",
   "execution_count": 18,
   "id": "a842eef5",
   "metadata": {},
   "outputs": [
    {
     "data": {
      "text/plain": [
       "{'3_pred': '42491',\n",
       " '3_prob': '0.0027286895',\n",
       " '2_pred': '42202',\n",
       " '2_prob': '0.0031309738',\n",
       " '1_pred': '42499',\n",
       " '1_prob': '0.9765296'}"
      ]
     },
     "execution_count": 18,
     "metadata": {},
     "output_type": "execute_result"
    }
   ],
   "source": [
    "cls_result[0]"
   ]
  },
  {
   "cell_type": "code",
   "execution_count": 10,
   "id": "b86a6d59",
   "metadata": {},
   "outputs": [
    {
     "name": "stdout",
     "output_type": "stream",
     "text": [
      "0.96875\n"
     ]
    }
   ],
   "source": [
    "cls_top1 = [i['1_pred'] for i in cls_result]\n",
    "cls_prob1 = [i['1_prob'] for i in cls_result]\n",
    "acc_check = 0\n",
    "for i,j in zip(cls_top1, gold_lab):\n",
    "    if i == j:\n",
    "        acc_check +=1\n",
    "print(acc_check/len(cls_top1))"
   ]
  },
  {
   "cell_type": "code",
   "execution_count": 11,
   "id": "6862ae3a",
   "metadata": {},
   "outputs": [
    {
     "name": "stdout",
     "output_type": "stream",
     "text": [
      "0.953125\n"
     ]
    }
   ],
   "source": [
    "gen_top1 = [i['1_pred'] for i in gen_result2]\n",
    "gen_prob1 = [i['1_prob'] for i in gen_result2]\n",
    "acc_check = 0\n",
    "for i,j in zip(gen_top1, gold_lab):\n",
    "    if i == j:\n",
    "        acc_check +=1\n",
    "print(acc_check/len(gen_top1))"
   ]
  },
  {
   "cell_type": "code",
   "execution_count": 12,
   "id": "5329d43b",
   "metadata": {},
   "outputs": [
    {
     "data": {
      "text/plain": [
       "{'1_pred': '42499',\n",
       " '1_prob': 0.9995706686925746,\n",
       " '2_pred': '21210',\n",
       " '2_prob': 2.0728644157295178e-24,\n",
       " '3_pred': '34508',\n",
       " '3_prob': 1.0489239781432684e-27}"
      ]
     },
     "execution_count": 12,
     "metadata": {},
     "output_type": "execute_result"
    }
   ],
   "source": [
    "gen_result2[0]"
   ]
  },
  {
   "cell_type": "code",
   "execution_count": 13,
   "id": "1686fe53",
   "metadata": {},
   "outputs": [
    {
     "data": {
      "text/plain": [
       "{'3_pred': '42491',\n",
       " '3_prob': '0.0027286895',\n",
       " '2_pred': '42202',\n",
       " '2_prob': '0.0031309738',\n",
       " '1_pred': '42499',\n",
       " '1_prob': '0.9765296'}"
      ]
     },
     "execution_count": 13,
     "metadata": {},
     "output_type": "execute_result"
    }
   ],
   "source": [
    "cls_result[0]"
   ]
  },
  {
   "cell_type": "code",
   "execution_count": 20,
   "id": "95aa3058",
   "metadata": {},
   "outputs": [],
   "source": [
    "import json\n",
    "with open('labels.json', 'r', encoding ='utf8') as fp:\n",
    "    lab_data =json.load(fp)\n",
    "lab_keys = lab_data['labels']"
   ]
  },
  {
   "cell_type": "code",
   "execution_count": 19,
   "id": "cbbf7db5",
   "metadata": {},
   "outputs": [],
   "source": [
    "def get_hybrid_result(cls_result, gen_result, lab_keys):\n",
    "    hybrid_result =[]\n",
    "    for cls, gen in zip(cls_result,gen_result):\n",
    "        save_dict = {}\n",
    "        for tn in range(1,4):\n",
    "            if float(cls[f'{tn}_prob'])>= float(gen[f'{tn}_prob']):\n",
    "                save_dict[f'{tn}_pred']=cls[f'{tn}_pred']\n",
    "                save_dict[f'{tn}_prob']=cls[f'{tn}_prob']\n",
    "            elif gen[f'{tn}_pred'] in lab_keys:\n",
    "                save_dict[f'{tn}_pred']=gen[f'{tn}_pred']\n",
    "                save_dict[f'{tn}_prob']=gen[f'{tn}_prob']\n",
    "            elif gen[f'{tn}_pred'] not in lab_keys:\n",
    "                save_dict[f'{tn}_pred']=cls[f'{tn}_pred']\n",
    "                save_dict[f'{tn}_prob']=cls[f'{tn}_prob']\n",
    "            else:\n",
    "                print('??')\n",
    "                \n",
    "        hybrid_result.append(save_dict)\n",
    "    return hybrid_result"
   ]
  },
  {
   "cell_type": "code",
   "execution_count": 24,
   "id": "7a6c3363",
   "metadata": {},
   "outputs": [
    {
     "data": {
      "text/plain": [
       "'0.9765296'"
      ]
     },
     "execution_count": 24,
     "metadata": {},
     "output_type": "execute_result"
    }
   ],
   "source": [
    "cls_result[0][f'{1}_prob']"
   ]
  },
  {
   "cell_type": "code",
   "execution_count": 30,
   "id": "2aa2dc66",
   "metadata": {},
   "outputs": [],
   "source": [
    "hb_res = get_hybrid_result(cls_result, gen_result2, lab_keys)"
   ]
  },
  {
   "cell_type": "code",
   "execution_count": 31,
   "id": "ba6f5b85",
   "metadata": {},
   "outputs": [
    {
     "data": {
      "text/plain": [
       "{'1_pred': '42499',\n",
       " '1_prob': 0.9995706686925746,\n",
       " '2_pred': '42202',\n",
       " '2_prob': '0.0031309738',\n",
       " '3_pred': '42491',\n",
       " '3_prob': '0.0027286895'}"
      ]
     },
     "execution_count": 31,
     "metadata": {},
     "output_type": "execute_result"
    }
   ],
   "source": [
    "hb_res[0]"
   ]
  },
  {
   "cell_type": "code",
   "execution_count": 28,
   "id": "45f1bebb",
   "metadata": {},
   "outputs": [
    {
     "data": {
      "text/plain": [
       "{'1_pred': '42499',\n",
       " '1_prob': 0.9995706686925746,\n",
       " '2_pred': '21210',\n",
       " '2_prob': 2.0728644157295178e-24,\n",
       " '3_pred': '34508',\n",
       " '3_prob': 1.0489239781432684e-27}"
      ]
     },
     "execution_count": 28,
     "metadata": {},
     "output_type": "execute_result"
    }
   ],
   "source": [
    "gen_result2[0]"
   ]
  },
  {
   "cell_type": "code",
   "execution_count": null,
   "id": "4f0e6172",
   "metadata": {},
   "outputs": [],
   "source": []
  },
  {
   "cell_type": "code",
   "execution_count": 29,
   "id": "29c3f1c3",
   "metadata": {},
   "outputs": [
    {
     "data": {
      "text/plain": [
       "{'3_pred': '42491',\n",
       " '3_prob': '0.0027286895',\n",
       " '2_pred': '42202',\n",
       " '2_prob': '0.0031309738',\n",
       " '1_pred': '42499',\n",
       " '1_prob': '0.9765296'}"
      ]
     },
     "execution_count": 29,
     "metadata": {},
     "output_type": "execute_result"
    }
   ],
   "source": [
    "cls_result[0]"
   ]
  },
  {
   "cell_type": "code",
   "execution_count": 27,
   "id": "8ec18511",
   "metadata": {},
   "outputs": [
    {
     "data": {
      "text/plain": [
       "{'1_pred': '42499',\n",
       " '1_prob': 0.9995706686925746,\n",
       " '2_pred': '42202',\n",
       " '2_prob': '0.0031309738',\n",
       " '3_pred': '42491',\n",
       " '3_prob': '0.0027286895'}"
      ]
     },
     "execution_count": 27,
     "metadata": {},
     "output_type": "execute_result"
    }
   ],
   "source": [
    "hb_res[0]"
   ]
  },
  {
   "cell_type": "code",
   "execution_count": 17,
   "id": "b9b7fec6",
   "metadata": {},
   "outputs": [
    {
     "name": "stdout",
     "output_type": "stream",
     "text": [
      "0.953125\n"
     ]
    }
   ],
   "source": [
    "hybrid_top1 = []\n",
    "for cnt, (cls, gen) in enumerate(zip(cls_result,gen_result2)):\n",
    "    if float(cls['1_prob'])>= float(gen['1_prob']):\n",
    "        hybrid_top1.append(cls['1_pred'])\n",
    "        #print(cnt)\n",
    "    elif gen['1_pred'] in lab_keys:\n",
    "        hybrid_top1.append(gen['1_pred'])\n",
    "    elif gen['1_pred'] not in lab_keys:\n",
    "        hybrid_top1.append(cls['1_pred'])\n",
    "        print(cnt)\n",
    "    else:\n",
    "        print('??')\n",
    "        \n",
    "acc_check = 0\n",
    "for i,j in zip(hybrid_top1, gold_lab):\n",
    "    if i == j:\n",
    "        acc_check +=1\n",
    "print(acc_check/len(hybrid_top1))"
   ]
  }
 ],
 "metadata": {
  "kernelspec": {
   "display_name": "Python 3 (ipykernel)",
   "language": "python",
   "name": "python3"
  },
  "language_info": {
   "codemirror_mode": {
    "name": "ipython",
    "version": 3
   },
   "file_extension": ".py",
   "mimetype": "text/x-python",
   "name": "python",
   "nbconvert_exporter": "python",
   "pygments_lexer": "ipython3",
   "version": "3.7.7"
  }
 },
 "nbformat": 4,
 "nbformat_minor": 5
}
